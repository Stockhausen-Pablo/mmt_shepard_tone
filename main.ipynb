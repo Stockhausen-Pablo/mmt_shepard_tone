{
 "cells": [
  {
   "cell_type": "markdown",
   "metadata": {},
   "source": [
    "##### Shepard-Effekt"
   ]
  },
  {
   "cell_type": "markdown",
   "metadata": {},
   "source": [
    "## Umsetzung in Python"
   ]
  },
  {
   "cell_type": "markdown",
   "metadata": {},
   "source": [
    "Es wird die Shepard-Skala dargestellt, da die Frequenzveränderung in zeitlich diskreten Tonschritten passiert."
   ]
  },
  {
   "cell_type": "code",
   "execution_count": 3,
   "metadata": {
    "scrolled": true
   },
   "outputs": [
    {
     "data": {
      "text/plain": [
       "'shepard_tone.mid'"
      ]
     },
     "execution_count": 3,
     "metadata": {},
     "output_type": "execute_result"
    }
   ],
   "source": [
    "import sys\n",
    "#!{sys.executable} -m pip install --upgrade music21\n",
    "\n",
    "from itertools import cycle, islice\n",
    "from music21 import stream, instrument, scale, dynamics, pitch\n",
    "from music21.note import Note\n",
    "\n",
    "\n",
    "def create_shepard_tone_parts(stream, scale_name, loop_length, note_duration, accelerator, volume_start, pos_time_incr):\n",
    "    \"\"\"Generate needed parts for shepard tone.\n",
    "\n",
    "    Args:\n",
    "        stream(music21.stream): Input stream\n",
    "        scale_name (string): Name of major scale\n",
    "        loop_length (int): How often the parts are repeated\n",
    "        note_duration (int): Length of quarter notes\n",
    "        accelerator (int): Factor, with which the volume is increased or decreased\n",
    "        volume_start (int): Starting volume of the lower pitched track, that fades in\n",
    "        pos_time_incr (float): Increment value with which the pos_time gets increased\n",
    "    Returns:\n",
    "        list of stream parts\n",
    "    \"\"\"\n",
    "    \n",
    "    # Create Stream Parts\n",
    "    part_high = stream.Part(id='High')\n",
    "    part_constant = stream.Part(id='Constant')\n",
    "    part_low = stream.Part(id='Low')\n",
    "    \n",
    "    # Insert Instruments\n",
    "    part_high.insert(0, instrument.Piano())\n",
    "    part_constant.insert(0, instrument.Piano())\n",
    "    part_low.insert(0, instrument.Piano())\n",
    "    \n",
    "    # Create Scales\n",
    "    # https://github.com/jsundram/music21/blob/master/music21/scale.py\n",
    "    note_scale = scale.ChromaticScale(scale_name)\n",
    "    \n",
    "    # Starting time position of MIDI-Track\n",
    "    pos_time = 0.0 \n",
    "\n",
    "    # Declare the constant volume\n",
    "    # (This volume will be also used, as the final volume of the fading in track.)\n",
    "    # 26 equals the numbers of pitches, that one tracks contains.\n",
    "    constant_volume = volume_start + (accelerator * 26)  \n",
    "    \n",
    "    for episode in range(loop_length):\n",
    "        \n",
    "        # Equals a volume level that is rather quiet but increases over time.\n",
    "        # After one episode it will be equal $constant_volume\n",
    "        increment_volume = volume_start \n",
    "        \n",
    "        # Equals a volume level that is rather loud but decreases over time.\n",
    "        # After one episode it will be equal $volume_start\n",
    "        decrement_volume = constant_volume \n",
    "        \n",
    "        for (pitch_high, pitch_constant, pitch_low) in zip(\n",
    "            note_scale.getPitches('C7', 'C9', direction=scale.Direction.ASCENDING),\n",
    "            note_scale.getPitches('C5', 'C7', direction=scale.Direction.ASCENDING),\n",
    "            note_scale.getPitches('C3', 'C5', direction=scale.Direction.ASCENDING)\n",
    "        ):\n",
    "            \n",
    "            # Create Notes\n",
    "            note_low = Note(pitch_low, quarterLength=note_length)\n",
    "            note_low.volume.velocity = increment_volume\n",
    "            \n",
    "            note_constant = Note(pitch_constant, quarterLength=note_length)\n",
    "            note_constant.volume.velocity = 88\n",
    "            \n",
    "            note_high = Note(pitch_high, quarterLength=note_length)\n",
    "            note_high.volume.velocity = decrement_volume\n",
    "            \n",
    "            # Insert Notes into the correct point of time\n",
    "            part_high.insert(pos_time, note_high)\n",
    "            part_constant.insert(pos_time, note_constant)\n",
    "            part_low.insert(pos_time, note_low)\n",
    "            \n",
    "            # \n",
    "            pos_time += pos_time_incr\n",
    "            \n",
    "            # Increase/Decrease volumes\n",
    "            increment_volume += accelerator\n",
    "            decrement_volume -= accelerator\n",
    "        \n",
    "    return [part_low, part_constant, part_high]\n",
    "\n",
    "# Constants\n",
    "loop_length = 10\n",
    "note_length = 0.5 # How long should the note be played for (time)\n",
    "\n",
    "volume_start = 10 # Value between 0...127, see https://web.mit.edu/music21/doc/moduleReference/moduleVolume.html#music21.volume.Volume.velocity\n",
    "accelerator = 3 # Choose smaller a value, we recommend a value between 1:10\n",
    "\n",
    "pos_time_incr = 1.0 # Lower this value if you want to speed up the tracks, vice versa if you want to slow it down.\n",
    "\n",
    "parts_list = create_shepard_tone_parts(stream, 'C2', loop_length, note_length, accelerator, volume_start, pos_time_incr)\n",
    "\n",
    "shepard_stream = stream.Stream(parts_list)\n",
    "\n",
    "# For further debugging information\n",
    "# print(shepard_stream.show('text'))\n",
    "\n",
    "shepard_stream.write('midi', 'shepard_tone.mid')"
   ]
  },
  {
   "cell_type": "code",
   "execution_count": null,
   "metadata": {},
   "outputs": [],
   "source": []
  }
 ],
 "metadata": {
  "kernelspec": {
   "display_name": "Python 3 (ipykernel)",
   "language": "python",
   "name": "python3"
  },
  "language_info": {
   "codemirror_mode": {
    "name": "ipython",
    "version": 3
   },
   "file_extension": ".py",
   "mimetype": "text/x-python",
   "name": "python",
   "nbconvert_exporter": "python",
   "pygments_lexer": "ipython3",
   "version": "3.9.1"
  }
 },
 "nbformat": 4,
 "nbformat_minor": 2
}